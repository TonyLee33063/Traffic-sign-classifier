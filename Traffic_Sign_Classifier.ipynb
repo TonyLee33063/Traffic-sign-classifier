{
 "cells": [
  {
   "cell_type": "markdown",
   "metadata": {},
   "source": [
    "# Self-Driving Car Engineer Nanodegree\n",
    "\n",
    "## Deep Learning\n",
    "\n",
    "## Project: Build a Traffic Sign Recognition Classifier\n",
    "\n",
    "In this notebook, a template is provided for you to implement your functionality in stages, which is required to successfully complete this project. If additional code is required that cannot be included in the notebook, be sure that the Python code is successfully imported and included in your submission if necessary. \n",
    "\n",
    "> **Note**: Once you have completed all of the code implementations, you need to finalize your work by exporting the iPython Notebook as an HTML document. Before exporting the notebook to html, all of the code cells need to have been run so that reviewers can see the final implementation and output. You can then export the notebook by using the menu above and navigating to  \\n\",\n",
    "    \"**File -> Download as -> HTML (.html)**. Include the finished document along with this notebook as your submission. \n",
    "\n",
    "In addition to implementing code, there is a writeup to complete. The writeup should be completed in a separate file, which can be either a markdown file or a pdf document. There is a [write up template](https://github.com/udacity/CarND-Traffic-Sign-Classifier-Project/blob/master/writeup_template.md) that can be used to guide the writing process. Completing the code template and writeup template will cover all of the [rubric points](https://review.udacity.com/#!/rubrics/481/view) for this project.\n",
    "\n",
    "The [rubric](https://review.udacity.com/#!/rubrics/481/view) contains \"Stand Out Suggestions\" for enhancing the project beyond the minimum requirements. The stand out suggestions are optional. If you decide to pursue the \"stand out suggestions\", you can include the code in this Ipython notebook and also discuss the results in the writeup file.\n",
    "\n",
    "\n",
    ">**Note:** Code and Markdown cells can be executed using the **Shift + Enter** keyboard shortcut. In addition, Markdown cells can be edited by typically double-clicking the cell to enter edit mode."
   ]
  },
  {
   "cell_type": "markdown",
   "metadata": {},
   "source": [
    "---\n",
    "## Step 0: Load The Data"
   ]
  },
  {
   "cell_type": "code",
   "execution_count": 2,
   "metadata": {
    "collapsed": true
   },
   "outputs": [],
   "source": [
    "# Load pickled data\n",
    "import pickle\n",
    "import numpy as np\n",
    "\n",
    "# TODO: Fill this in based on where you saved the training and testing data\n",
    "training_file = 'data/train.p'\n",
    "validation_file= 'data/valid.p'\n",
    "testing_file = 'data/test.p'\n",
    "\n",
    "with open(training_file, mode='rb') as f:\n",
    "    train = pickle.load(f)\n",
    "with open(validation_file, mode='rb') as f:\n",
    "    valid = pickle.load(f)\n",
    "with open(testing_file, mode='rb') as f:\n",
    "    test = pickle.load(f)\n",
    "    \n",
    "X_train, y_train = train['features'], train['labels']\n",
    "X_valid, y_valid = valid['features'], valid['labels']\n",
    "X_test, y_test = test['features'], test['labels']"
   ]
  },
  {
   "cell_type": "markdown",
   "metadata": {},
   "source": [
    "---\n",
    "\n",
    "## Step 1: Dataset Summary & Exploration\n",
    "\n",
    "The pickled data is a dictionary with 4 key/value pairs:\n",
    "\n",
    "- `'features'` is a 4D array containing raw pixel data of the traffic sign images, (num examples, width, height, channels).\n",
    "- `'labels'` is a 1D array containing the label/class id of the traffic sign. The file `signnames.csv` contains id -> name mappings for each id.\n",
    "- `'sizes'` is a list containing tuples, (width, height) representing the original width and height the image.\n",
    "- `'coords'` is a list containing tuples, (x1, y1, x2, y2) representing coordinates of a bounding box around the sign in the image. **THESE COORDINATES ASSUME THE ORIGINAL IMAGE. THE PICKLED DATA CONTAINS RESIZED VERSIONS (32 by 32) OF THESE IMAGES**\n",
    "\n",
    "Complete the basic data summary below. Use python, numpy and/or pandas methods to calculate the data summary rather than hard coding the results. For example, the [pandas shape method](http://pandas.pydata.org/pandas-docs/stable/generated/pandas.DataFrame.shape.html) might be useful for calculating some of the summary results. "
   ]
  },
  {
   "cell_type": "markdown",
   "metadata": {},
   "source": [
    "### Provide a Basic Summary of the Data Set Using Python, Numpy and/or Pandas"
   ]
  },
  {
   "cell_type": "code",
   "execution_count": 14,
   "metadata": {},
   "outputs": [
    {
     "name": "stdout",
     "output_type": "stream",
     "text": [
      "Number of training examples = 34799\n",
      "Number of testing examples = 12630\n",
      "Image data shape = (32, 32, 3)\n",
      "Number of classes = 43\n"
     ]
    }
   ],
   "source": [
    "### Replace each question mark with the appropriate value. \n",
    "### Use python, pandas or numpy methods rather than hard coding the results\n",
    "\n",
    "# TODO: Number of training examples\n",
    "n_train = X_train.shape[0]\n",
    "#print(\"n_train\",n_train)\n",
    "\n",
    "# TODO: Number of validation examples\n",
    "n_validation = X_valid.shape[0]\n",
    "#print(\"n_validation\",n_validation)\n",
    "\n",
    "# TODO: Number of testing examples.\n",
    "n_test = X_test.shape[0]\n",
    "\n",
    "# TODO: What's the shape of an traffic sign image?\n",
    "image_shape = X_train.shape[1:]\n",
    "\n",
    "# TODO: How many unique classes/labels there are in the dataset.\n",
    "y_train_set = set(y_train.tolist())\n",
    "y_valid_set = set(y_valid.tolist())\n",
    "y_test_set = set(y_test.tolist())\n",
    "n_classes = len(y_train_set.union(y_valid_set).union(y_test_set))\n",
    "\n",
    "print(\"Number of training examples =\", n_train)\n",
    "print(\"Number of testing examples =\", n_test)\n",
    "print(\"Image data shape =\", image_shape)\n",
    "print(\"Number of classes =\", n_classes)"
   ]
  },
  {
   "cell_type": "markdown",
   "metadata": {},
   "source": [
    "### Include an exploratory visualization of the dataset"
   ]
  },
  {
   "cell_type": "markdown",
   "metadata": {},
   "source": [
    "Visualize the German Traffic Signs Dataset using the pickled file(s). This is open ended, suggestions include: plotting traffic sign images, plotting the count of each sign, etc. \n",
    "\n",
    "The [Matplotlib](http://matplotlib.org/) [examples](http://matplotlib.org/examples/index.html) and [gallery](http://matplotlib.org/gallery.html) pages are a great resource for doing visualizations in Python.\n",
    "\n",
    "**NOTE:** It's recommended you start with something simple first. If you wish to do more, come back to it after you've completed the rest of the sections. It can be interesting to look at the distribution of classes in the training, validation and test set. Is the distribution the same? Are there more examples of some classes than others?"
   ]
  },
  {
   "cell_type": "code",
   "execution_count": 4,
   "metadata": {},
   "outputs": [
    {
     "data": {
      "text/plain": [
       "<matplotlib.image.AxesImage at 0x7efd05a2a128>"
      ]
     },
     "execution_count": 4,
     "metadata": {},
     "output_type": "execute_result"
    },
    {
     "data": {
      "image/png": "[encoded data removed]",
      "text/plain": [
       "<matplotlib.figure.Figure at 0x7efd280b42b0>"
      ]
     },
     "metadata": {},
     "output_type": "display_data"
    }
   ],
   "source": [
    "### Data exploration visualization code goes here.\n",
    "### Feel free to use as many code cells as needed.\n",
    "import matplotlib.pyplot as plt\n",
    "import matplotlib.image as mpimg\n",
    "# Visualizations will be shown in the notebook.\n",
    "%matplotlib inline\n",
    "#print(\"img array\",X_train[1])\n",
    "#print(\"label\",y_train[1])\n",
    "#print(\"min\",np.amin(X_train[1]),\"max\",np.amax(X_train[1]))\n",
    "plt.imshow(X_train[1200])\n"
   ]
  },
  {
   "cell_type": "markdown",
   "metadata": {},
   "source": [
    "### some statistics like the bar chart about each set"
   ]
  },
  {
   "cell_type": "code",
   "execution_count": 16,
   "metadata": {},
   "outputs": [
    {
     "data": {
      "image/png": "[encoded data removed]",
      "text/plain": [
       "<matplotlib.figure.Figure at 0x7ff9da306710>"
      ]
     },
     "metadata": {},
     "output_type": "display_data"
    }
   ],
   "source": [
    "objects = ('train_size', 'valid_size', 'test_size')\n",
    "y_pos = np.arange(len(objects))\n",
    "performance = [n_train,n_validation,n_test]\n",
    " \n",
    "plt.bar(y_pos, performance, align='center', alpha=0.5)\n",
    "plt.xticks(y_pos, objects)\n",
    "plt.ylabel('count')\n",
    "plt.title('different dataset size')\n",
    "plt.show()"
   ]
  },
  {
   "cell_type": "markdown",
   "metadata": {},
   "source": [
    "----\n",
    "\n",
    "## Step 2: Design and Test a Model Architecture\n",
    "\n",
    "Design and implement a deep learning model that learns to recognize traffic signs. Train and test your model on the [German Traffic Sign Dataset](http://benchmark.ini.rub.de/?section=gtsrb&subsection=dataset).\n",
    "\n",
    "The LeNet-5 implementation shown in the [classroom](https://classroom.udacity.com/nanodegrees/nd013/parts/fbf77062-5703-404e-b60c-95b78b2f3f9e/modules/6df7ae49-c61c-4bb2-a23e-6527e69209ec/lessons/601ae704-1035-4287-8b11-e2c2716217ad/concepts/d4aca031-508f-4e0b-b493-e7b706120f81) at the end of the CNN lesson is a solid starting point. You'll have to change the number of classes and possibly the preprocessing, but aside from that it's plug and play! \n",
    "\n",
    "With the LeNet-5 solution from the lecture, you should expect a validation set accuracy of about 0.89. To meet specifications, the validation set accuracy will need to be at least 0.93. It is possible to get an even higher accuracy, but 0.93 is the minimum for a successful project submission. \n",
    "\n",
    "There are various aspects to consider when thinking about this problem:\n",
    "\n",
    "- Neural network architecture (is the network over or underfitting?)\n",
    "- Play around preprocessing techniques (normalization, rgb to grayscale, etc)\n",
    "- Number of examples per label (some have more than others).\n",
    "- Generate fake data.\n",
    "\n",
    "Here is an example of a [published baseline model on this problem](http://yann.lecun.com/exdb/publis/pdf/sermanet-ijcnn-11.pdf). It's not required to be familiar with the approach used in the paper but, it's good practice to try to read papers like these."
   ]
  },
  {
   "cell_type": "markdown",
   "metadata": {},
   "source": [
    "### Pre-process the Data Set (normalization, grayscale, etc.)"
   ]
  },
  {
   "cell_type": "markdown",
   "metadata": {},
   "source": [
    "Minimally, the image data should be normalized so that the data has mean zero and equal variance. For image data, `(pixel - 128)/ 128` is a quick way to approximately normalize the data and can be used in this project. \n",
    "\n",
    "Other pre-processing steps are optional. You can try different techniques to see if it improves performance. \n",
    "\n",
    "Use the code cell (or multiple code cells, if necessary) to implement the first step of your project."
   ]
  },
  {
   "cell_type": "code",
   "execution_count": 5,
   "metadata": {},
   "outputs": [
    {
     "name": "stdout",
     "output_type": "stream",
     "text": [
      "x_train length 34799\n",
      "normalized shape  (34799, 32, 32, 1)\n",
      "min -0.976562 max 0.992188\n",
      "X_valid length 4410\n",
      "X_valid_gray shape  (4410, 32, 32, 1)\n",
      "X_test_gray shape  (12630, 32, 32, 1)\n"
     ]
    }
   ],
   "source": [
    "import cv2\n",
    "from sklearn.utils import shuffle\n",
    "### Preprocess the data here. It is required to normalize the data. Other preprocessing steps could include \n",
    "\n",
    "def preprocess(img):\n",
    "    #step1 convert the RGB image to gray image.\n",
    "    gray = Rgb2Gray(img)\n",
    "    gray=gray.reshape((32,32,1))\n",
    "    #step2 normalize the image data.\n",
    "    return normalize(gray)\n",
    "\n",
    "def Rgb2Gray(img):\n",
    "    return cv2.cvtColor(img,cv2.COLOR_RGB2GRAY)\n",
    "\n",
    "def normalize(img):\n",
    "    return (gray-128.0)/128.0\n",
    "\n",
    "def normalize_img(img):\n",
    "    ### converting to grayscale, etc.\n",
    "    gray = cv2.cvtColor(img,cv2.COLOR_RGB2GRAY)\n",
    "    gray=gray.reshape((32,32,1))\n",
    "    gray = (gray-128.0)/128.0\n",
    "    return gray\n",
    "\n",
    "### Feel free to use as many code cells as needed.\n",
    "print(\"x_train length\",len(X_train))\n",
    "X_train_gray = np.zeros((len(X_train),32,32,1),dtype=np.float32)\n",
    "for i,element in enumerate(X_train):\n",
    "    X_train_gray[i] = normalize_img(element)\n",
    "    \n",
    "print(\"normalized shape \",X_train_gray.shape)\n",
    "print(\"min\",np.amin(X_train_gray),\"max\",np.amax(X_train_gray))\n",
    "\n",
    "print(\"X_valid length\",len(X_valid))\n",
    "X_valid_gray = np.zeros((len(X_valid),32,32,1),dtype=np.float32)\n",
    "for i,element in enumerate(X_valid):\n",
    "    X_valid_gray[i] = normalize_img(element)\n",
    "    \n",
    "print(\"X_valid_gray shape \",X_valid_gray.shape)\n",
    "\n",
    "X_test_gray = np.zeros((len(X_test),32,32,1),dtype=np.float32)\n",
    "for i,element in enumerate(X_test):\n",
    "    X_test_gray[i] = normalize_img(element)\n",
    "    \n",
    "print(\"X_test_gray shape \",X_test_gray.shape)\n",
    "\n"
   ]
  },
  {
   "cell_type": "code",
   "execution_count": 18,
   "metadata": {},
   "outputs": [
    {
     "data": {
      "text/plain": [
       "<matplotlib.image.AxesImage at 0x7ff9da24d588>"
      ]
     },
     "execution_count": 18,
     "metadata": {},
     "output_type": "execute_result"
    },
    {
     "data": {
      "image/png": "[encoded data removed]",
      "text/plain": [
       "<matplotlib.figure.Figure at 0x7ff9da30b080>"
      ]
     },
     "metadata": {},
     "output_type": "display_data"
    }
   ],
   "source": [
    "gray_img = Rgb2Gray(X_train[1200])\n",
    "#print(\"gray_img array\",gray_img)\n",
    "#print(\"gray_img shape\",gray_img.shape)\n",
    "#print(\"min\",np.amin(gray_img),\"max\",np.amax(gray_img))\n",
    "plt.imshow(gray_img,cmap=\"gray\")"
   ]
  },
  {
   "cell_type": "markdown",
   "metadata": {},
   "source": [
    "### Model Architecture"
   ]
  },
  {
   "cell_type": "code",
   "execution_count": 19,
   "metadata": {
    "collapsed": true
   },
   "outputs": [],
   "source": [
    "### Define your architecture here.\n",
    "### Feel free to use as many code cells as needed.\n",
    "import tensorflow as tf\n",
    "from tensorflow.contrib.layers import flatten\n",
    "\n",
    "def LeNet(x):    \n",
    "    # Arguments used for tf.truncated_normal, randomly defines variables for the weights and biases for each layer\n",
    "    mu = 0\n",
    "    sigma = 0.1\n",
    "    strides =1\n",
    "    k=2  # for ksize\n",
    "\n",
    "    wc1 = tf.Variable(tf.truncated_normal([5,5,1,32],mean= mu,stddev=sigma))\n",
    "    biase1 = tf.Variable(tf.zeros([32]))\n",
    "    # TODO: Layer 1: Convolutional. Input = 32x32x1. Output = 28x28x32.\n",
    "    x = tf.nn.conv2d(x, wc1, strides=[1, strides, strides, 1], padding='VALID')\n",
    "    x = tf.nn.bias_add(x, biase1)\n",
    "    # TODO: Activation.\n",
    "    x = tf.nn.relu(x)\n",
    "    # TODO: Pooling. Input = 28x28x32. Output = 14x14x32.\n",
    "    x=tf.nn.max_pool(x,ksize=[1, k, k, 1],strides=[1, k, k, 1],padding='SAME')\n",
    "    print(\"x\")\n",
    "    print(\"x\",x.get_shape())\n",
    "\n",
    "    # TODO: Layer 2: Convolutional. Output = 10x10x64.\n",
    "    # TODO: Activation.\n",
    "    # TODO: Pooling. Input = 10x10x64. Output = 5x5x64.\n",
    "    wc2 = tf.Variable(tf.truncated_normal([5,5,32,64],mean= mu,stddev=sigma))\n",
    "    biase2 = tf.Variable(tf.zeros([64]))\n",
    "    conv2 = tf.nn.conv2d(x, wc2, strides=[1, strides, strides, 1], padding='VALID')\n",
    "    conv2 = tf.nn.bias_add(conv2, biase2)\n",
    "    conv2 = tf.nn.relu(conv2)\n",
    "    conv2=tf.nn.max_pool(conv2,ksize=[1, k, k, 1],strides=[1, k, k, 1],padding='SAME')\n",
    "\n",
    "    # TODO: Flatten. Input = 5x5x32. Output = 1600.\n",
    "    # TODO: Layer 3: Fully Connected. Input = 1600. Output = 320.\n",
    "    # TODO: Activation.\n",
    "    dropout = 0.5\n",
    "    wd1= tf.Variable(tf.truncated_normal([1600, 320],mean= mu,stddev=sigma))\n",
    "    bd1 = tf.Variable(tf.zeros([320]))\n",
    "    #print(\"conv2\")\n",
    "    #print(\"conv2\",conv2.get_shape())\n",
    "    fc1 = flatten(conv2)\n",
    "    fc1 = tf.add(tf.matmul(fc1, wd1), bd1)\n",
    "    fc1 = tf.nn.relu(fc1)\n",
    "    fc1 = tf.nn.dropout(fc1, dropout)\n",
    "\n",
    "    # TODO: Layer 4: Fully Connected. Input = 320. Output = 160.\n",
    "    wd2= tf.Variable(tf.truncated_normal([320, 160],mean= mu,stddev=sigma))\n",
    "    bd2 = tf.Variable(tf.zeros([160]))\n",
    "    fc2 = tf.add(tf.matmul(fc1, wd2), bd2)\n",
    "    # TODO: Activation,using Relu activation\n",
    "    fc2 = tf.nn.relu(fc2)\n",
    "    fc2 = tf.nn.dropout(fc2, dropout)\n",
    "    \n",
    "    # TODO: Layer 5: Fully Connected. Input = 160. Output = 43.\n",
    "    n_classes =43\n",
    "    out = tf.Variable(tf.truncated_normal([160, n_classes],mean= mu,stddev=sigma))\n",
    "    out_bias = tf.Variable(tf.zeros([n_classes]))\n",
    "    logits = tf.add(tf.matmul(fc2,out),out_bias)\n",
    "    return logits"
   ]
  },
  {
   "cell_type": "markdown",
   "metadata": {},
   "source": [
    "### Train, Validate and Test the Model"
   ]
  },
  {
   "cell_type": "markdown",
   "metadata": {},
   "source": [
    "A validation set can be used to assess how well the model is performing. A low accuracy on the training and validation\n",
    "sets imply underfitting. A high accuracy on the training set but low accuracy on the validation set implies overfitting."
   ]
  },
  {
   "cell_type": "markdown",
   "metadata": {},
   "source": [
    "### Features and labels\n",
    "Train LeNet to classify German Traffic sign data.\n",
    "\n",
    "`x` is a placeholder for a batch of input images.\n",
    "`y` is a placeholder for a batch of output labels."
   ]
  },
  {
   "cell_type": "code",
   "execution_count": 20,
   "metadata": {
    "collapsed": true
   },
   "outputs": [],
   "source": [
    "### Train your model here.\n",
    "EPOCHS =20\n",
    "BATCH_SIZE =64\n",
    "x = tf.placeholder(tf.float32, (None, 32, 32, 1))\n",
    "y = tf.placeholder(tf.int32, (None))\n",
    "one_hot_y = tf.one_hot(y, 43)"
   ]
  },
  {
   "cell_type": "markdown",
   "metadata": {},
   "source": [
    "### Training Pipeline\n",
    "Create a training pipeline that uses the model to classify German Traffic sign data."
   ]
  },
  {
   "cell_type": "code",
   "execution_count": 21,
   "metadata": {},
   "outputs": [
    {
     "name": "stdout",
     "output_type": "stream",
     "text": [
      "x\n",
      "x (?, 14, 14, 32)\n"
     ]
    }
   ],
   "source": [
    "rate = 0.001\n",
    "\n",
    "logits = LeNet(x)\n",
    "cross_entropy = tf.nn.softmax_cross_entropy_with_logits(labels=one_hot_y, logits=logits)\n",
    "loss_operation = tf.reduce_mean(cross_entropy)\n",
    "optimizer = tf.train.AdamOptimizer(learning_rate = rate)\n",
    "training_operation = optimizer.minimize(loss_operation)"
   ]
  },
  {
   "cell_type": "markdown",
   "metadata": {},
   "source": [
    "### Model Evaluation\n",
    "Evaluate how well the loss and accuracy of the model for a given dataset."
   ]
  },
  {
   "cell_type": "code",
   "execution_count": 22,
   "metadata": {
    "collapsed": true
   },
   "outputs": [],
   "source": [
    "correct_prediction = tf.equal(tf.argmax(logits, 1), tf.argmax(one_hot_y, 1))\n",
    "accuracy_operation = tf.reduce_mean(tf.cast(correct_prediction, tf.float32))\n",
    "saver = tf.train.Saver()\n",
    "\n",
    "def evaluate(X_data, y_data):\n",
    "    num_examples = len(X_data)\n",
    "    total_accuracy = 0\n",
    "    sess = tf.get_default_session()\n",
    "    for offset in range(0, num_examples, BATCH_SIZE):\n",
    "        batch_x, batch_y = X_data[offset:offset+BATCH_SIZE], y_data[offset:offset+BATCH_SIZE]\n",
    "        accuracy = sess.run(accuracy_operation, feed_dict={x: batch_x, y: batch_y})\n",
    "        total_accuracy += (accuracy * len(batch_x))\n",
    "    return total_accuracy / num_examples"
   ]
  },
  {
   "cell_type": "markdown",
   "metadata": {},
   "source": [
    "### Train the Model\n",
    "Run the training data through the training pipeline to train the model.\n",
    "\n",
    "Before each epoch, shuffle the training set.\n",
    "\n",
    "After each epoch, measure the loss and accuracy of the validation set.\n",
    "\n",
    "Save the model after training.\n"
   ]
  },
  {
   "cell_type": "code",
   "execution_count": 23,
   "metadata": {},
   "outputs": [
    {
     "name": "stdout",
     "output_type": "stream",
     "text": [
      "Training...\n",
      "\n",
      "EPOCH 1 ...\n",
      "training Accuracy = 0.804\n",
      "\n",
      "Validation Accuracy = 0.734\n",
      "\n",
      "EPOCH 2 ...\n",
      "training Accuracy = 0.918\n",
      "\n",
      "Validation Accuracy = 0.864\n",
      "\n",
      "EPOCH 3 ...\n",
      "training Accuracy = 0.958\n",
      "\n",
      "Validation Accuracy = 0.918\n",
      "\n",
      "EPOCH 4 ...\n",
      "training Accuracy = 0.963\n",
      "\n",
      "Validation Accuracy = 0.906\n",
      "\n",
      "EPOCH 5 ...\n",
      "training Accuracy = 0.973\n",
      "\n",
      "Validation Accuracy = 0.922\n",
      "\n",
      "EPOCH 6 ...\n",
      "training Accuracy = 0.976\n",
      "\n",
      "Validation Accuracy = 0.920\n",
      "\n",
      "EPOCH 7 ...\n",
      "training Accuracy = 0.982\n",
      "\n",
      "Validation Accuracy = 0.931\n",
      "\n",
      "EPOCH 8 ...\n",
      "training Accuracy = 0.984\n",
      "\n",
      "Validation Accuracy = 0.938\n",
      "\n",
      "EPOCH 9 ...\n",
      "training Accuracy = 0.984\n",
      "\n",
      "Validation Accuracy = 0.933\n",
      "\n",
      "EPOCH 10 ...\n",
      "training Accuracy = 0.984\n",
      "\n",
      "Validation Accuracy = 0.935\n",
      "\n",
      "EPOCH 11 ...\n",
      "training Accuracy = 0.985\n",
      "\n",
      "Validation Accuracy = 0.934\n",
      "\n",
      "EPOCH 12 ...\n",
      "training Accuracy = 0.990\n",
      "\n",
      "Validation Accuracy = 0.946\n",
      "\n",
      "EPOCH 13 ...\n",
      "training Accuracy = 0.987\n",
      "\n",
      "Validation Accuracy = 0.942\n",
      "\n",
      "EPOCH 14 ...\n",
      "training Accuracy = 0.987\n",
      "\n",
      "Validation Accuracy = 0.944\n",
      "\n",
      "EPOCH 15 ...\n",
      "training Accuracy = 0.990\n",
      "\n",
      "Validation Accuracy = 0.943\n",
      "\n",
      "EPOCH 16 ...\n",
      "training Accuracy = 0.991\n",
      "\n",
      "Validation Accuracy = 0.942\n",
      "\n",
      "EPOCH 17 ...\n",
      "training Accuracy = 0.986\n",
      "\n",
      "Validation Accuracy = 0.932\n",
      "\n",
      "EPOCH 18 ...\n",
      "training Accuracy = 0.994\n",
      "\n",
      "Validation Accuracy = 0.952\n",
      "\n",
      "EPOCH 19 ...\n",
      "training Accuracy = 0.991\n",
      "\n",
      "Validation Accuracy = 0.951\n",
      "\n",
      "EPOCH 20 ...\n",
      "training Accuracy = 0.993\n",
      "\n",
      "Validation Accuracy = 0.951\n",
      "\n",
      "Model saved\n"
     ]
    }
   ],
   "source": [
    "with tf.Session() as sess:\n",
    "    sess.run(tf.global_variables_initializer())\n",
    "    num_examples = len(X_train)\n",
    "    \n",
    "    print(\"Training...\")\n",
    "    print()\n",
    "    for i in range(EPOCHS):\n",
    "        X_train_gray, y_train = shuffle(X_train_gray, y_train)\n",
    "        for offset in range(0, num_examples, BATCH_SIZE):\n",
    "            end = offset + BATCH_SIZE\n",
    "            batch_x, batch_y = X_train_gray[offset:end], y_train[offset:end]\n",
    "            sess.run(training_operation, feed_dict={x: batch_x, y: batch_y})\n",
    "        ### Calculate and report the accuracy on the training and validation set. \n",
    "        training_accuracy = evaluate(X_train_gray, y_train)\n",
    "        validation_accuracy = evaluate(X_valid_gray, y_valid)\n",
    "        print(\"EPOCH {} ...\".format(i+1))\n",
    "        print(\"training Accuracy = {:.3f}\".format(training_accuracy))\n",
    "        print()\n",
    "        print(\"Validation Accuracy = {:.3f}\".format(validation_accuracy))\n",
    "        print()\n",
    "        \n",
    "    saver.save(sess, './traffic-sign')\n",
    "    print(\"Model saved\")"
   ]
  },
  {
   "cell_type": "markdown",
   "metadata": {},
   "source": [
    "### Evaluate the Model\n",
    "Once you are completely satisfied with your model, evaluate the performance of the model on the test set.\n",
    "\n",
    "Be sure to only do this once!"
   ]
  },
  {
   "cell_type": "code",
   "execution_count": 24,
   "metadata": {},
   "outputs": [
    {
     "name": "stdout",
     "output_type": "stream",
     "text": [
      "Test Accuracy = 0.934\n"
     ]
    }
   ],
   "source": [
    "with tf.Session() as sess: \n",
    "    new_saver2 = tf.train.import_meta_graph('traffic-sign.meta')  \n",
    "    new_saver2.restore(sess, tf.train.latest_checkpoint('.'))        \n",
    "    test_accuracy = evaluate(X_test_gray, y_test)\n",
    "    print(\"Test Accuracy = {:.3f}\".format(test_accuracy))"
   ]
  },
  {
   "cell_type": "markdown",
   "metadata": {},
   "source": [
    "---\n",
    "\n",
    "## Step 3: Test a Model on New Images\n",
    "\n",
    "To give yourself more insight into how your model is working, download at least five pictures of German traffic signs from the web and use your model to predict the traffic sign type.\n",
    "\n",
    "You may find `signnames.csv` useful as it contains mappings from the class id (integer) to the actual sign name."
   ]
  },
  {
   "cell_type": "code",
   "execution_count": 7,
   "metadata": {
    "collapsed": true
   },
   "outputs": [],
   "source": [
    "def normalize_Rgba_to_Gray(img):\n",
    "    ### converting to grayscale, etc.\n",
    "    gray = cv2.cvtColor(img,cv2.COLOR_RGB2GRAY)\n",
    "    gray=gray.reshape((32,32,1))\n",
    "    gray = gray.astype(np.float32)\n",
    "    gray = (gray-128.0)/128.0\n",
    "    return gray"
   ]
  },
  {
   "cell_type": "code",
   "execution_count": 26,
   "metadata": {},
   "outputs": [
    {
     "name": "stdout",
     "output_type": "stream",
     "text": [
      "original shape (32, 32, 3)\n",
      "original dtype uint8\n",
      "shape (32, 32, 1)\n",
      "dtype float32\n",
      "min: -0.789062 max: 0.984375\n"
     ]
    }
   ],
   "source": [
    "image = mpimg.imread('data/stopg.jpg')\n",
    "print(\"original shape\",image.shape)\n",
    "print(\"original dtype\",image.dtype)\n",
    "image_gray = normalize_Rgba_to_Gray(image)\n",
    "print(\"shape\",image_gray.shape)\n",
    "print(\"dtype\",image_gray.dtype)\n",
    "#print(\"original:\",image)\n",
    "print(\"min:\",np.amin(image_gray),\"max:\",np.amax(image_gray))\n",
    "#plt.imshow(image_gray,cmap=\"gray\")"
   ]
  },
  {
   "cell_type": "markdown",
   "metadata": {},
   "source": [
    "### Load and Output the Images"
   ]
  },
  {
   "cell_type": "code",
   "execution_count": 8,
   "metadata": {},
   "outputs": [],
   "source": [
    "### Load the images and plot them here.\n",
    "### Feel free to use as many code cells as needed. \n",
    "image_gray = np.zeros((5,32,32,1),dtype=np.float32)\n",
    "image = mpimg.imread('data/stopg.jpg')\n",
    "#print(\"shape\",image.shape)\n",
    "#print(\"original:\",image)\n",
    "image_gray[0] = normalize_Rgba_to_Gray(image)\n",
    "image2 = mpimg.imread('data/Biyclej.jpg')\n",
    "image_gray[1] = normalize_Rgba_to_Gray(image2)\n",
    "image3 = mpimg.imread('data/double_curve.jpg')\n",
    "image_gray[2] = normalize_Rgba_to_Gray(image3)\n",
    "image4 = mpimg.imread('data/straightOrRight.jpg')\n",
    "image_gray[3] = normalize_Rgba_to_Gray(image4)\n",
    "image5 = mpimg.imread('data/60.jpg')\n",
    "image_gray[4] = normalize_Rgba_to_Gray(image5)\n",
    "#plt.imshow(image_gray[0], cmap=\"gray\")\n",
    "#print(\"min:\",np.amin(image_gray[0]),\"max:\",np.amax(image_gray[0]))\n",
    "\n",
    "#print(\"--------------\")\n",
    "#print(\"shape\",image_gray[1])\n"
   ]
  },
  {
   "cell_type": "markdown",
   "metadata": {},
   "source": [
    "### Predict the Sign Type for Each Image"
   ]
  },
  {
   "cell_type": "code",
   "execution_count": null,
   "metadata": {
    "collapsed": true
   },
   "outputs": [],
   "source": [
    "### Run the predictions here and use the model to output the prediction for each image.\n",
    "### Make sure to pre-process the images with the same pre-processing pipeline used earlier.\n",
    "### Feel free to use as many code cells as needed.\n",
    "# convert RGB to gray"
   ]
  },
  {
   "cell_type": "code",
   "execution_count": 31,
   "metadata": {},
   "outputs": [
    {
     "name": "stdout",
     "output_type": "stream",
     "text": [
      "predicted_labels [14 29 30 36  3]\n"
     ]
    }
   ],
   "source": [
    "with tf.Session() as sess: \n",
    "    new_saver = tf.train.import_meta_graph('traffic-sign.meta')  \n",
    "    new_saver.restore(sess, tf.train.latest_checkpoint('.'))        \n",
    "    predicted_logits = sess.run(logits, feed_dict={x: image_gray})\n",
    "    #print(\"predicted_logits\",predicted_logits)\n",
    "    predicted_labels = np.argmax(predicted_logits, axis=1)\n",
    "    print(\"predicted_labels\",predicted_labels)"
   ]
  },
  {
   "cell_type": "markdown",
   "metadata": {},
   "source": [
    "### Analyze Performance"
   ]
  },
  {
   "cell_type": "code",
   "execution_count": 33,
   "metadata": {},
   "outputs": [
    {
     "name": "stdout",
     "output_type": "stream",
     "text": [
      "accuracy for new images 0.80\n"
     ]
    }
   ],
   "source": [
    "### Calculate the accuracy for these 5 new images. \n",
    "print(\"accuracy for new images {:.2f}\".format(4/5))\n",
    "### For example, if the model predicted 1 out of 5 signs correctly, it's 20% accurate on these new images."
   ]
  },
  {
   "cell_type": "markdown",
   "metadata": {},
   "source": [
    "### Output Top 5 Softmax Probabilities For Each Image Found on the Web"
   ]
  },
  {
   "cell_type": "markdown",
   "metadata": {},
   "source": [
    "For each of the new images, print out the model's softmax probabilities to show the **certainty** of the model's predictions (limit the output to the top 5 probabilities for each image). [`tf.nn.top_k`](https://www.tensorflow.org/versions/r0.12/api_docs/python/nn.html#top_k) could prove helpful here. \n",
    "\n",
    "The example below demonstrates how tf.nn.top_k can be used to find the top k predictions for each image.\n",
    "\n",
    "`tf.nn.top_k` will return the values and indices (class ids) of the top k predictions. So if k=3, for each sign, it'll return the 3 largest probabilities (out of a possible 43) and the correspoding class ids.\n",
    "\n",
    "Take this numpy array as an example. The values in the array represent predictions. The array contains softmax probabilities for five candidate images with six possible classes. `tk.nn.top_k` is used to choose the three classes with the highest probability:\n",
    "\n",
    "```\n",
    "# (5, 6) array\n",
    "a = np.array([[ 0.24879643,  0.07032244,  0.12641572,  0.34763842,  0.07893497,\n",
    "         0.12789202],\n",
    "       [ 0.28086119,  0.27569815,  0.08594638,  0.0178669 ,  0.18063401,\n",
    "         0.15899337],\n",
    "       [ 0.26076848,  0.23664738,  0.08020603,  0.07001922,  0.1134371 ,\n",
    "         0.23892179],\n",
    "       [ 0.11943333,  0.29198961,  0.02605103,  0.26234032,  0.1351348 ,\n",
    "         0.16505091],\n",
    "       [ 0.09561176,  0.34396535,  0.0643941 ,  0.16240774,  0.24206137,\n",
    "         0.09155967]])\n",
    "```\n",
    "\n",
    "Running it through `sess.run(tf.nn.top_k(tf.constant(a), k=3))` produces:\n",
    "\n",
    "```\n",
    "TopKV2(values=array([[ 0.34763842,  0.24879643,  0.12789202],\n",
    "       [ 0.28086119,  0.27569815,  0.18063401],\n",
    "       [ 0.26076848,  0.23892179,  0.23664738],\n",
    "       [ 0.29198961,  0.26234032,  0.16505091],\n",
    "       [ 0.34396535,  0.24206137,  0.16240774]]), indices=array([[3, 0, 5],\n",
    "       [0, 1, 4],\n",
    "       [0, 5, 1],\n",
    "       [1, 3, 5],\n",
    "       [1, 4, 3]], dtype=int32))\n",
    "```\n",
    "\n",
    "Looking just at the first row we get `[ 0.34763842,  0.24879643,  0.12789202]`, you can confirm these are the 3 largest probabilities in `a`. You'll also notice `[3, 0, 5]` are the corresponding indices."
   ]
  },
  {
   "cell_type": "code",
   "execution_count": 32,
   "metadata": {},
   "outputs": [
    {
     "name": "stdout",
     "output_type": "stream",
     "text": [
      "top5VK TopKV2(values=array([[  9.99839902e-01,   1.59310337e-04,   5.88271746e-07,\n",
      "          4.46763977e-08,   4.27066134e-08],\n",
      "       [  9.96783614e-01,   2.67695636e-03,   5.39067842e-04,\n",
      "          2.81926532e-07,   1.85073539e-08],\n",
      "       [  9.99896049e-01,   1.03741753e-04,   2.22326577e-07,\n",
      "          4.34502319e-08,   2.61131478e-10],\n",
      "       [  1.00000000e+00,   7.88495727e-11,   1.71650602e-15,\n",
      "          2.28612207e-18,   1.22328031e-19],\n",
      "       [  9.99700069e-01,   2.99831765e-04,   8.84483384e-08,\n",
      "          2.09144098e-08,   3.71815401e-09]], dtype=float32), indices=array([[14, 38,  1,  2, 37],\n",
      "       [29, 23, 30, 34, 25],\n",
      "       [20, 18, 28, 11, 38],\n",
      "       [36, 34, 22, 35, 17],\n",
      "       [ 3,  5, 31, 19,  2]], dtype=int32))\n",
      "predicted_labels [14 29 20 36  3]\n"
     ]
    }
   ],
   "source": [
    "### Print out the top five softmax probabilities for the predictions on the German traffic sign images found on the web. \n",
    "### Feel free to use as many code cells as needed.\n",
    "with tf.Session() as sess: \n",
    "    new_saver3 = tf.train.import_meta_graph('traffic-sign.meta')  \n",
    "    new_saver3.restore(sess, tf.train.latest_checkpoint('.'))        \n",
    "    predicted_logits = sess.run(logits, feed_dict={x: image_gray})\n",
    "    #print(\"predicted_logits\",predicted_logits)\n",
    "    softmax = tf.nn.softmax(predicted_logits)\n",
    "    top5VK = sess.run(tf.nn.top_k(softmax, k=5))\n",
    "    print(\"top5VK\",top5VK)\n",
    "    predicted_labels = np.argmax(predicted_logits, axis=1)\n",
    "    print(\"predicted_labels\",predicted_labels)"
   ]
  },
  {
   "cell_type": "markdown",
   "metadata": {},
   "source": [
    "### Show the certainty of the predictions for the 5 images. "
   ]
  },
  {
   "cell_type": "code",
   "execution_count": null,
   "metadata": {
    "collapsed": true
   },
   "outputs": [],
   "source": [
    "objects = ('stop_sign', 'Biycle_crossing', 'Double_curve','Straight_or_right','Traffic_light')\n",
    "y_pos = np.arange(len(objects))\n",
    "performance = [0,4.58099604e-01,0,1.00000000e+00,9.85953391e-01]\n",
    " \n",
    "plt.bar(y_pos, performance, align='center', alpha=0.5)\n",
    "plt.xticks(y_pos, objects)\n",
    "plt.ylabel('accuracy')\n",
    "plt.title('certainty for each label')\n",
    "plt.show()"
   ]
  },
  {
   "cell_type": "code",
   "execution_count": null,
   "metadata": {
    "collapsed": true
   },
   "outputs": [],
   "source": [
    "### Print out the top five softmax probabilities for the predictions on the German traffic sign images found on the web. \n",
    "### Feel free to use as many code cells as needed.\n",
    "softmax = tf.nn.softmax(logits)\n",
    "with tf.Session() as sess: \n",
    "    top5VK = sess.run(tf.nn.top_k(softmax, k=5))\n",
    "    print(\"top5VK\",top5VK)"
   ]
  },
  {
   "cell_type": "markdown",
   "metadata": {},
   "source": [
    "### Project Writeup\n",
    "\n",
    "Once you have completed the code implementation, document your results in a project writeup using this [template](https://github.com/udacity/CarND-Traffic-Sign-Classifier-Project/blob/master/writeup_template.md) as a guide. The writeup can be in a markdown or pdf file. "
   ]
  },
  {
   "cell_type": "markdown",
   "metadata": {},
   "source": [
    "> **Note**: Once you have completed all of the code implementations and successfully answered each question above, you may finalize your work by exporting the iPython Notebook as an HTML document. You can do this by using the menu above and navigating to  \\n\",\n",
    "    \"**File -> Download as -> HTML (.html)**. Include the finished document along with this notebook as your submission."
   ]
  },
  {
   "cell_type": "markdown",
   "metadata": {},
   "source": [
    "---\n",
    "\n",
    "## Step 4 (Optional): Visualize the Neural Network's State with Test Images\n",
    "\n",
    " This Section is not required to complete but acts as an additional excersise for understaning the output of a neural network's weights. While neural networks can be a great learning device they are often referred to as a black box. We can understand what the weights of a neural network look like better by plotting their feature maps. After successfully training your neural network you can see what it's feature maps look like by plotting the output of the network's weight layers in response to a test stimuli image. From these plotted feature maps, it's possible to see what characteristics of an image the network finds interesting. For a sign, maybe the inner network feature maps react with high activation to the sign's boundary outline or to the contrast in the sign's painted symbol.\n",
    "\n",
    " Provided for you below is the function code that allows you to get the visualization output of any tensorflow weight layer you want. The inputs to the function should be a stimuli image, one used during training or a new one you provided, and then the tensorflow variable name that represents the layer's state during the training process, for instance if you wanted to see what the [LeNet lab's](https://classroom.udacity.com/nanodegrees/nd013/parts/fbf77062-5703-404e-b60c-95b78b2f3f9e/modules/6df7ae49-c61c-4bb2-a23e-6527e69209ec/lessons/601ae704-1035-4287-8b11-e2c2716217ad/concepts/d4aca031-508f-4e0b-b493-e7b706120f81) feature maps looked like for it's second convolutional layer you could enter conv2 as the tf_activation variable.\n",
    "\n",
    "For an example of what feature map outputs look like, check out NVIDIA's results in their paper [End-to-End Deep Learning for Self-Driving Cars](https://devblogs.nvidia.com/parallelforall/deep-learning-self-driving-cars/) in the section Visualization of internal CNN State. NVIDIA was able to show that their network's inner weights had high activations to road boundary lines by comparing feature maps from an image with a clear path to one without. Try experimenting with a similar test to show that your trained network's weights are looking for interesting features, whether it's looking at differences in feature maps from images with or without a sign, or even what feature maps look like in a trained network vs a completely untrained one on the same sign image.\n",
    "\n",
    "<figure>\n",
    " <img src=\"visualize_cnn.png\" width=\"380\" alt=\"Combined Image\" />\n",
    " <figcaption>\n",
    " <p></p> \n",
    " <p style=\"text-align: center;\"> Your output should look something like this (above)</p> \n",
    " </figcaption>\n",
    "</figure>\n",
    " <p></p> \n"
   ]
  },
  {
   "cell_type": "code",
   "execution_count": null,
   "metadata": {
    "collapsed": true
   },
   "outputs": [],
   "source": [
    "### Visualize your network's feature maps here.\n",
    "### Feel free to use as many code cells as needed.\n",
    "\n",
    "# image_input: the test image being fed into the network to produce the feature maps\n",
    "# tf_activation: should be a tf variable name used during your training procedure that represents the calculated state of a specific weight layer\n",
    "# activation_min/max: can be used to view the activation contrast in more detail, by default matplot sets min and max to the actual min and max values of the output\n",
    "# plt_num: used to plot out multiple different weight feature map sets on the same block, just extend the plt number for each new feature map entry\n",
    "\n",
    "def outputFeatureMap(image_input, tf_activation, activation_min=-1, activation_max=-1 ,plt_num=1):\n",
    "    # Here make sure to preprocess your image_input in a way your network expects\n",
    "    # with size, normalization, ect if needed\n",
    "    # image_input =\n",
    "    # Note: x should be the same name as your network's tensorflow data placeholder variable\n",
    "    # If you get an error tf_activation is not defined it may be having trouble accessing the variable from inside a function\n",
    "    activation = tf_activation.eval(session=sess,feed_dict={x : image_input})\n",
    "    featuremaps = activation.shape[3]\n",
    "    plt.figure(plt_num, figsize=(15,15))\n",
    "    for featuremap in range(featuremaps):\n",
    "        plt.subplot(6,8, featuremap+1) # sets the number of feature maps to show on each row and column\n",
    "        plt.title('FeatureMap ' + str(featuremap)) # displays the feature map number\n",
    "        if activation_min != -1 & activation_max != -1:\n",
    "            plt.imshow(activation[0,:,:, featuremap], interpolation=\"nearest\", vmin =activation_min, vmax=activation_max, cmap=\"gray\")\n",
    "        elif activation_max != -1:\n",
    "            plt.imshow(activation[0,:,:, featuremap], interpolation=\"nearest\", vmax=activation_max, cmap=\"gray\")\n",
    "        elif activation_min !=-1:\n",
    "            plt.imshow(activation[0,:,:, featuremap], interpolation=\"nearest\", vmin=activation_min, cmap=\"gray\")\n",
    "        else:\n",
    "            plt.imshow(activation[0,:,:, featuremap], interpolation=\"nearest\", cmap=\"gray\")"
   ]
  }
 ],
 "metadata": {
  "anaconda-cloud": {},
  "kernelspec": {
   "display_name": "Python 3",
   "language": "python",
   "name": "python3"
  },
  "language_info": {
   "codemirror_mode": {
    "name": "ipython",
    "version": 3
   },
   "file_extension": ".py",
   "mimetype": "text/x-python",
   "name": "python",
   "nbconvert_exporter": "python",
   "pygments_lexer": "ipython3",
   "version": "3.5.2"
  },
  "widgets": {
   "state": {},
   "version": "1.1.2"
  }
 },
 "nbformat": 4,
 "nbformat_minor": 1
}
